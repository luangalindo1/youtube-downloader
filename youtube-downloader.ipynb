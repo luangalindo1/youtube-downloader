{
 "cells": [
  {
   "cell_type": "code",
   "execution_count": 1,
   "metadata": {},
   "outputs": [],
   "source": [
    "## Bibliotecas\n",
    "import tkinter as tk\n",
    "from pytube import YouTube as yt"
   ]
  },
  {
   "cell_type": "code",
   "execution_count": 2,
   "metadata": {},
   "outputs": [],
   "source": [
    "## Janela do aplicativo\n",
    "window = tk.Tk()\n",
    "window.title('YouTube download')\n",
    "window.geometry(\"500x450\")\n",
    "window.resizable(0,0)\n",
    "window.configure(bg='red')\n",
    "\n",
    "# Texto da janela do aplicativo\n",
    "tk.Label(window,text='Baixe vídeos do YouTube\\n Insira o Link do download abaixo...',\n",
    "         font='arial 15 bold',bg='red',fg='black').pack()"
   ]
  },
  {
   "cell_type": "code",
   "execution_count": 3,
   "metadata": {},
   "outputs": [],
   "source": [
    "## Tratamento Backend\n",
    "link = tk.StringVar()\n",
    "\n",
    "# Barra de inserção do usuário\n",
    "entry_url = tk.Entry(window, textvariable=link, width=70).place(x=50,y=100)\n",
    "\n",
    "# Função download\n",
    "def download():\n",
    "    url = yt(str(link.get()))\n",
    "    # Melhor resolução\n",
    "    video = url.streams.get_highest_resolution()\n",
    "    # Só áudio\n",
    "    #video = url.streams.get_audio_only()\n",
    "    # Salvando em Downloads (Para salvar em outra pasta, basta inserir o caminho\n",
    "    # no argumento)\n",
    "    video.download()\n",
    "    tk.Label(window, text='Baixado').place(x=215, y=390)\n",
    "\n",
    "# Botão para início de download\n",
    "tk.Button(window, text='Clique para baixar', command=download, fg='white', bg='black').place(x=200, y=360)\n",
    "\n",
    "# Iniciar interface\n",
    "tk.mainloop()"
   ]
  }
 ],
 "metadata": {
  "kernelspec": {
   "display_name": "base",
   "language": "python",
   "name": "python3"
  },
  "language_info": {
   "codemirror_mode": {
    "name": "ipython",
    "version": 3
   },
   "file_extension": ".py",
   "mimetype": "text/x-python",
   "name": "python",
   "nbconvert_exporter": "python",
   "pygments_lexer": "ipython3",
   "version": "3.11.5"
  }
 },
 "nbformat": 4,
 "nbformat_minor": 2
}
